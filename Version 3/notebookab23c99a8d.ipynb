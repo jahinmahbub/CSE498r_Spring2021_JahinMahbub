{
 "cells": [
  {
   "cell_type": "markdown",
   "metadata": {},
   "source": [
    "### Jahin Mahbub"
   ]
  },
  {
   "cell_type": "markdown",
   "metadata": {},
   "source": [
    "### ID: 1531552042"
   ]
  },
  {
   "cell_type": "markdown",
   "metadata": {},
   "source": [
    "### Phone: +8801783342851"
   ]
  },
  {
   "cell_type": "code",
   "execution_count": 67,
   "metadata": {},
   "outputs": [
    {
     "name": "stdout",
     "output_type": "stream",
     "text": [
      "Requirement already satisfied: autoviz in c:\\programdata\\anaconda3\\lib\\site-packages (0.0.81)\n",
      "Requirement already satisfied: matplotlib in c:\\programdata\\anaconda3\\lib\\site-packages (from autoviz) (3.3.2)\n",
      "Requirement already satisfied: scikit-learn in c:\\programdata\\anaconda3\\lib\\site-packages (from autoviz) (0.23.2)\n",
      "Requirement already satisfied: pandas in c:\\programdata\\anaconda3\\lib\\site-packages (from autoviz) (1.1.3)\n",
      "Requirement already satisfied: statsmodels in c:\\programdata\\anaconda3\\lib\\site-packages (from autoviz) (0.12.0)\n",
      "Requirement already satisfied: xgboost in c:\\programdata\\anaconda3\\lib\\site-packages (from autoviz) (1.4.2)\n",
      "Requirement already satisfied: seaborn in c:\\programdata\\anaconda3\\lib\\site-packages (from autoviz) (0.11.0)\n",
      "Requirement already satisfied: ipython in c:\\programdata\\anaconda3\\lib\\site-packages (from autoviz) (7.19.0)\n",
      "Requirement already satisfied: jupyter in c:\\programdata\\anaconda3\\lib\\site-packages (from autoviz) (1.0.0)\n",
      "Requirement already satisfied: python-dateutil>=2.1 in c:\\programdata\\anaconda3\\lib\\site-packages (from matplotlib->autoviz) (2.8.1)\n",
      "Requirement already satisfied: pillow>=6.2.0 in c:\\programdata\\anaconda3\\lib\\site-packages (from matplotlib->autoviz) (8.0.1)\n",
      "Requirement already satisfied: numpy>=1.15 in c:\\programdata\\anaconda3\\lib\\site-packages (from matplotlib->autoviz) (1.19.2)\n",
      "Requirement already satisfied: pyparsing!=2.0.4,!=2.1.2,!=2.1.6,>=2.0.3 in c:\\programdata\\anaconda3\\lib\\site-packages (from matplotlib->autoviz) (2.4.7)\n",
      "Requirement already satisfied: kiwisolver>=1.0.1 in c:\\programdata\\anaconda3\\lib\\site-packages (from matplotlib->autoviz) (1.3.0)\n",
      "Requirement already satisfied: certifi>=2020.06.20 in c:\\programdata\\anaconda3\\lib\\site-packages (from matplotlib->autoviz) (2020.6.20)\n",
      "Requirement already satisfied: cycler>=0.10 in c:\\programdata\\anaconda3\\lib\\site-packages (from matplotlib->autoviz) (0.10.0)\n",
      "Requirement already satisfied: threadpoolctl>=2.0.0 in c:\\programdata\\anaconda3\\lib\\site-packages (from scikit-learn->autoviz) (2.1.0)\n",
      "Requirement already satisfied: joblib>=0.11 in c:\\programdata\\anaconda3\\lib\\site-packages (from scikit-learn->autoviz) (0.17.0)\n",
      "Requirement already satisfied: scipy>=0.19.1 in c:\\programdata\\anaconda3\\lib\\site-packages (from scikit-learn->autoviz) (1.5.2)\n",
      "Requirement already satisfied: pytz>=2017.2 in c:\\programdata\\anaconda3\\lib\\site-packages (from pandas->autoviz) (2020.1)\n",
      "Requirement already satisfied: patsy>=0.5 in c:\\programdata\\anaconda3\\lib\\site-packages (from statsmodels->autoviz) (0.5.1)\n",
      "Requirement already satisfied: backcall in c:\\programdata\\anaconda3\\lib\\site-packages (from ipython->autoviz) (0.2.0)\n",
      "Requirement already satisfied: pygments in c:\\programdata\\anaconda3\\lib\\site-packages (from ipython->autoviz) (2.7.2)\n",
      "Requirement already satisfied: traitlets>=4.2 in c:\\programdata\\anaconda3\\lib\\site-packages (from ipython->autoviz) (5.0.5)\n",
      "Requirement already satisfied: decorator in c:\\programdata\\anaconda3\\lib\\site-packages (from ipython->autoviz) (4.4.2)\n",
      "Requirement already satisfied: setuptools>=18.5 in c:\\programdata\\anaconda3\\lib\\site-packages (from ipython->autoviz) (50.3.1.post20201107)\n",
      "Requirement already satisfied: colorama; sys_platform == \"win32\" in c:\\programdata\\anaconda3\\lib\\site-packages (from ipython->autoviz) (0.4.4)\n",
      "Requirement already satisfied: pickleshare in c:\\programdata\\anaconda3\\lib\\site-packages (from ipython->autoviz) (0.7.5)\n",
      "Requirement already satisfied: prompt-toolkit!=3.0.0,!=3.0.1,<3.1.0,>=2.0.0 in c:\\programdata\\anaconda3\\lib\\site-packages (from ipython->autoviz) (3.0.8)\n",
      "Requirement already satisfied: jedi>=0.10 in c:\\programdata\\anaconda3\\lib\\site-packages (from ipython->autoviz) (0.17.1)\n",
      "Requirement already satisfied: notebook in c:\\programdata\\anaconda3\\lib\\site-packages (from jupyter->autoviz) (6.1.4)\n",
      "Requirement already satisfied: qtconsole in c:\\programdata\\anaconda3\\lib\\site-packages (from jupyter->autoviz) (4.7.7)\n",
      "Requirement already satisfied: nbconvert in c:\\programdata\\anaconda3\\lib\\site-packages (from jupyter->autoviz) (6.0.7)\n",
      "Requirement already satisfied: ipykernel in c:\\programdata\\anaconda3\\lib\\site-packages (from jupyter->autoviz) (5.3.4)\n",
      "Requirement already satisfied: ipywidgets in c:\\programdata\\anaconda3\\lib\\site-packages (from jupyter->autoviz) (7.5.1)\n",
      "Requirement already satisfied: jupyter-console in c:\\programdata\\anaconda3\\lib\\site-packages (from jupyter->autoviz) (6.2.0)\n",
      "Requirement already satisfied: six>=1.5 in c:\\programdata\\anaconda3\\lib\\site-packages (from python-dateutil>=2.1->matplotlib->autoviz) (1.15.0)\n",
      "Requirement already satisfied: ipython-genutils in c:\\programdata\\anaconda3\\lib\\site-packages (from traitlets>=4.2->ipython->autoviz) (0.2.0)\n",
      "Requirement already satisfied: wcwidth in c:\\programdata\\anaconda3\\lib\\site-packages (from prompt-toolkit!=3.0.0,!=3.0.1,<3.1.0,>=2.0.0->ipython->autoviz) (0.2.5)\n",
      "Requirement already satisfied: parso<0.8.0,>=0.7.0 in c:\\programdata\\anaconda3\\lib\\site-packages (from jedi>=0.10->ipython->autoviz) (0.7.0)\n",
      "Requirement already satisfied: argon2-cffi in c:\\programdata\\anaconda3\\lib\\site-packages (from notebook->jupyter->autoviz) (20.1.0)\n",
      "Requirement already satisfied: pyzmq>=17 in c:\\programdata\\anaconda3\\lib\\site-packages (from notebook->jupyter->autoviz) (19.0.2)\n",
      "Requirement already satisfied: jupyter-client>=5.3.4 in c:\\programdata\\anaconda3\\lib\\site-packages (from notebook->jupyter->autoviz) (6.1.7)\n",
      "Requirement already satisfied: prometheus-client in c:\\programdata\\anaconda3\\lib\\site-packages (from notebook->jupyter->autoviz) (0.8.0)\n",
      "Requirement already satisfied: tornado>=5.0 in c:\\programdata\\anaconda3\\lib\\site-packages (from notebook->jupyter->autoviz) (6.0.4)\n",
      "Requirement already satisfied: jupyter-core>=4.6.1 in c:\\programdata\\anaconda3\\lib\\site-packages (from notebook->jupyter->autoviz) (4.6.3)\n",
      "Requirement already satisfied: Send2Trash in c:\\programdata\\anaconda3\\lib\\site-packages (from notebook->jupyter->autoviz) (1.5.0)\n",
      "Requirement already satisfied: nbformat in c:\\programdata\\anaconda3\\lib\\site-packages (from notebook->jupyter->autoviz) (5.0.8)\n",
      "Requirement already satisfied: terminado>=0.8.3 in c:\\programdata\\anaconda3\\lib\\site-packages (from notebook->jupyter->autoviz) (0.9.1)\n",
      "Requirement already satisfied: jinja2 in c:\\programdata\\anaconda3\\lib\\site-packages (from notebook->jupyter->autoviz) (2.11.2)\n",
      "Requirement already satisfied: qtpy in c:\\programdata\\anaconda3\\lib\\site-packages (from qtconsole->jupyter->autoviz) (1.9.0)\n",
      "Requirement already satisfied: testpath in c:\\programdata\\anaconda3\\lib\\site-packages (from nbconvert->jupyter->autoviz) (0.4.4)\n",
      "Requirement already satisfied: entrypoints>=0.2.2 in c:\\programdata\\anaconda3\\lib\\site-packages (from nbconvert->jupyter->autoviz) (0.3)\n",
      "Requirement already satisfied: jupyterlab-pygments in c:\\programdata\\anaconda3\\lib\\site-packages (from nbconvert->jupyter->autoviz) (0.1.2)\n",
      "Requirement already satisfied: nbclient<0.6.0,>=0.5.0 in c:\\programdata\\anaconda3\\lib\\site-packages (from nbconvert->jupyter->autoviz) (0.5.1)\n",
      "Requirement already satisfied: bleach in c:\\programdata\\anaconda3\\lib\\site-packages (from nbconvert->jupyter->autoviz) (3.2.1)\n",
      "Requirement already satisfied: pandocfilters>=1.4.1 in c:\\programdata\\anaconda3\\lib\\site-packages (from nbconvert->jupyter->autoviz) (1.4.3)\n",
      "Requirement already satisfied: defusedxml in c:\\programdata\\anaconda3\\lib\\site-packages (from nbconvert->jupyter->autoviz) (0.6.0)\n",
      "Requirement already satisfied: mistune<2,>=0.8.1 in c:\\programdata\\anaconda3\\lib\\site-packages (from nbconvert->jupyter->autoviz) (0.8.4)\n",
      "Requirement already satisfied: widgetsnbextension~=3.5.0 in c:\\programdata\\anaconda3\\lib\\site-packages (from ipywidgets->jupyter->autoviz) (3.5.1)\n",
      "Requirement already satisfied: cffi>=1.0.0 in c:\\programdata\\anaconda3\\lib\\site-packages (from argon2-cffi->notebook->jupyter->autoviz) (1.14.3)\n",
      "Requirement already satisfied: pywin32>=1.0; sys_platform == \"win32\" in c:\\programdata\\anaconda3\\lib\\site-packages (from jupyter-core>=4.6.1->notebook->jupyter->autoviz) (227)\n",
      "Requirement already satisfied: jsonschema!=2.5.0,>=2.4 in c:\\programdata\\anaconda3\\lib\\site-packages (from nbformat->notebook->jupyter->autoviz) (3.2.0)\n",
      "Requirement already satisfied: pywinpty>=0.5 in c:\\programdata\\anaconda3\\lib\\site-packages (from terminado>=0.8.3->notebook->jupyter->autoviz) (0.5.7)\n",
      "Requirement already satisfied: MarkupSafe>=0.23 in c:\\programdata\\anaconda3\\lib\\site-packages (from jinja2->notebook->jupyter->autoviz) (1.1.1)\n",
      "Requirement already satisfied: async-generator in c:\\programdata\\anaconda3\\lib\\site-packages (from nbclient<0.6.0,>=0.5.0->nbconvert->jupyter->autoviz) (1.10)\n",
      "Requirement already satisfied: nest-asyncio in c:\\programdata\\anaconda3\\lib\\site-packages (from nbclient<0.6.0,>=0.5.0->nbconvert->jupyter->autoviz) (1.4.2)\n",
      "Requirement already satisfied: webencodings in c:\\programdata\\anaconda3\\lib\\site-packages (from bleach->nbconvert->jupyter->autoviz) (0.5.1)\n",
      "Requirement already satisfied: packaging in c:\\programdata\\anaconda3\\lib\\site-packages (from bleach->nbconvert->jupyter->autoviz) (20.4)\n",
      "Requirement already satisfied: pycparser in c:\\programdata\\anaconda3\\lib\\site-packages (from cffi>=1.0.0->argon2-cffi->notebook->jupyter->autoviz) (2.20)\n",
      "Requirement already satisfied: attrs>=17.4.0 in c:\\programdata\\anaconda3\\lib\\site-packages (from jsonschema!=2.5.0,>=2.4->nbformat->notebook->jupyter->autoviz) (20.3.0)\n",
      "Requirement already satisfied: pyrsistent>=0.14.0 in c:\\programdata\\anaconda3\\lib\\site-packages (from jsonschema!=2.5.0,>=2.4->nbformat->notebook->jupyter->autoviz) (0.17.3)\n"
     ]
    }
   ],
   "source": [
    "!pip install autoviz"
   ]
  },
  {
   "cell_type": "code",
   "execution_count": 2,
   "metadata": {
    "executionInfo": {
     "elapsed": 546,
     "status": "ok",
     "timestamp": 1595394293963,
     "user": {
      "displayName": "Hagar Greif",
      "photoUrl": "",
      "userId": "16439588397416278744"
     },
     "user_tz": -180
    },
    "id": "-8kqgaeWH_Lz"
   },
   "outputs": [],
   "source": [
    "import numpy as np \n",
    "import pandas as pd \n",
    "from datetime import datetime"
   ]
  },
  {
   "cell_type": "markdown",
   "metadata": {
    "id": "IAWZv6GkCA91"
   },
   "source": [
    "### File read and Data Cleaning:"
   ]
  },
  {
   "cell_type": "code",
   "execution_count": 3,
   "metadata": {
    "executionInfo": {
     "elapsed": 656,
     "status": "ok",
     "timestamp": 1595393261114,
     "user": {
      "displayName": "Hagar Greif",
      "photoUrl": "",
      "userId": "16439588397416278744"
     },
     "user_tz": -180
    },
    "id": "WOOAqzXwCA97",
    "outputId": "9aeb681e-df2e-410b-f2a8-17473d5ee2d1"
   },
   "outputs": [
    {
     "name": "stdout",
     "output_type": "stream",
     "text": [
      "(9840, 41)\n"
     ]
    },
    {
     "data": {
      "text/html": [
       "<div>\n",
       "<style scoped>\n",
       "    .dataframe tbody tr th:only-of-type {\n",
       "        vertical-align: middle;\n",
       "    }\n",
       "\n",
       "    .dataframe tbody tr th {\n",
       "        vertical-align: top;\n",
       "    }\n",
       "\n",
       "    .dataframe thead th {\n",
       "        text-align: right;\n",
       "    }\n",
       "</style>\n",
       "<table border=\"1\" class=\"dataframe\">\n",
       "  <thead>\n",
       "    <tr style=\"text-align: right;\">\n",
       "      <th></th>\n",
       "      <th>Unnamed: 0</th>\n",
       "      <th>Team</th>\n",
       "      <th>Game</th>\n",
       "      <th>Date</th>\n",
       "      <th>Home</th>\n",
       "      <th>Opponent</th>\n",
       "      <th>WINorLOSS</th>\n",
       "      <th>TeamPoints</th>\n",
       "      <th>OpponentPoints</th>\n",
       "      <th>FieldGoals</th>\n",
       "      <th>...</th>\n",
       "      <th>Opp.FreeThrows</th>\n",
       "      <th>Opp.FreeThrowsAttempted</th>\n",
       "      <th>Opp.FreeThrows.</th>\n",
       "      <th>Opp.OffRebounds</th>\n",
       "      <th>Opp.TotalRebounds</th>\n",
       "      <th>Opp.Assists</th>\n",
       "      <th>Opp.Steals</th>\n",
       "      <th>Opp.Blocks</th>\n",
       "      <th>Opp.Turnovers</th>\n",
       "      <th>Opp.TotalFouls</th>\n",
       "    </tr>\n",
       "  </thead>\n",
       "  <tbody>\n",
       "    <tr>\n",
       "      <th>7393</th>\n",
       "      <td>1490</td>\n",
       "      <td>ATL</td>\n",
       "      <td>14</td>\n",
       "      <td>2017-11-13</td>\n",
       "      <td>Away</td>\n",
       "      <td>NOP</td>\n",
       "      <td>L</td>\n",
       "      <td>105</td>\n",
       "      <td>106</td>\n",
       "      <td>40</td>\n",
       "      <td>...</td>\n",
       "      <td>11</td>\n",
       "      <td>17</td>\n",
       "      <td>0.647</td>\n",
       "      <td>7</td>\n",
       "      <td>38</td>\n",
       "      <td>31</td>\n",
       "      <td>10</td>\n",
       "      <td>5</td>\n",
       "      <td>19</td>\n",
       "      <td>13</td>\n",
       "    </tr>\n",
       "    <tr>\n",
       "      <th>4896</th>\n",
       "      <td>5959</td>\n",
       "      <td>WAS</td>\n",
       "      <td>59</td>\n",
       "      <td>2016-02-29</td>\n",
       "      <td>Home</td>\n",
       "      <td>PHI</td>\n",
       "      <td>W</td>\n",
       "      <td>116</td>\n",
       "      <td>108</td>\n",
       "      <td>43</td>\n",
       "      <td>...</td>\n",
       "      <td>12</td>\n",
       "      <td>21</td>\n",
       "      <td>0.571</td>\n",
       "      <td>6</td>\n",
       "      <td>32</td>\n",
       "      <td>27</td>\n",
       "      <td>8</td>\n",
       "      <td>4</td>\n",
       "      <td>11</td>\n",
       "      <td>27</td>\n",
       "    </tr>\n",
       "    <tr>\n",
       "      <th>6038</th>\n",
       "      <td>5373</td>\n",
       "      <td>LAL</td>\n",
       "      <td>53</td>\n",
       "      <td>2017-02-03</td>\n",
       "      <td>Away</td>\n",
       "      <td>BOS</td>\n",
       "      <td>L</td>\n",
       "      <td>107</td>\n",
       "      <td>113</td>\n",
       "      <td>37</td>\n",
       "      <td>...</td>\n",
       "      <td>22</td>\n",
       "      <td>28</td>\n",
       "      <td>0.786</td>\n",
       "      <td>7</td>\n",
       "      <td>47</td>\n",
       "      <td>28</td>\n",
       "      <td>8</td>\n",
       "      <td>1</td>\n",
       "      <td>16</td>\n",
       "      <td>19</td>\n",
       "    </tr>\n",
       "    <tr>\n",
       "      <th>8759</th>\n",
       "      <td>68106</td>\n",
       "      <td>MIL</td>\n",
       "      <td>68</td>\n",
       "      <td>2018-03-14</td>\n",
       "      <td>Away</td>\n",
       "      <td>ORL</td>\n",
       "      <td>L</td>\n",
       "      <td>117</td>\n",
       "      <td>126</td>\n",
       "      <td>49</td>\n",
       "      <td>...</td>\n",
       "      <td>20</td>\n",
       "      <td>23</td>\n",
       "      <td>0.870</td>\n",
       "      <td>9</td>\n",
       "      <td>42</td>\n",
       "      <td>31</td>\n",
       "      <td>10</td>\n",
       "      <td>4</td>\n",
       "      <td>17</td>\n",
       "      <td>16</td>\n",
       "    </tr>\n",
       "    <tr>\n",
       "      <th>3788</th>\n",
       "      <td>1746</td>\n",
       "      <td>MIL</td>\n",
       "      <td>17</td>\n",
       "      <td>2015-11-29</td>\n",
       "      <td>Away</td>\n",
       "      <td>CHO</td>\n",
       "      <td>L</td>\n",
       "      <td>82</td>\n",
       "      <td>87</td>\n",
       "      <td>33</td>\n",
       "      <td>...</td>\n",
       "      <td>18</td>\n",
       "      <td>22</td>\n",
       "      <td>0.818</td>\n",
       "      <td>7</td>\n",
       "      <td>43</td>\n",
       "      <td>20</td>\n",
       "      <td>6</td>\n",
       "      <td>6</td>\n",
       "      <td>13</td>\n",
       "      <td>16</td>\n",
       "    </tr>\n",
       "  </tbody>\n",
       "</table>\n",
       "<p>5 rows × 41 columns</p>\n",
       "</div>"
      ],
      "text/plain": [
       "      Unnamed: 0 Team  Game        Date  Home Opponent WINorLOSS  TeamPoints  \\\n",
       "7393        1490  ATL    14  2017-11-13  Away      NOP         L         105   \n",
       "4896        5959  WAS    59  2016-02-29  Home      PHI         W         116   \n",
       "6038        5373  LAL    53  2017-02-03  Away      BOS         L         107   \n",
       "8759       68106  MIL    68  2018-03-14  Away      ORL         L         117   \n",
       "3788        1746  MIL    17  2015-11-29  Away      CHO         L          82   \n",
       "\n",
       "      OpponentPoints  FieldGoals  ...  Opp.FreeThrows  \\\n",
       "7393             106          40  ...              11   \n",
       "4896             108          43  ...              12   \n",
       "6038             113          37  ...              22   \n",
       "8759             126          49  ...              20   \n",
       "3788              87          33  ...              18   \n",
       "\n",
       "      Opp.FreeThrowsAttempted  Opp.FreeThrows.  Opp.OffRebounds  \\\n",
       "7393                       17            0.647                7   \n",
       "4896                       21            0.571                6   \n",
       "6038                       28            0.786                7   \n",
       "8759                       23            0.870                9   \n",
       "3788                       22            0.818                7   \n",
       "\n",
       "      Opp.TotalRebounds  Opp.Assists  Opp.Steals  Opp.Blocks  Opp.Turnovers  \\\n",
       "7393                 38           31          10           5             19   \n",
       "4896                 32           27           8           4             11   \n",
       "6038                 47           28           8           1             16   \n",
       "8759                 42           31          10           4             17   \n",
       "3788                 43           20           6           6             13   \n",
       "\n",
       "      Opp.TotalFouls  \n",
       "7393              13  \n",
       "4896              27  \n",
       "6038              19  \n",
       "8759              16  \n",
       "3788              16  \n",
       "\n",
       "[5 rows x 41 columns]"
      ]
     },
     "execution_count": 3,
     "metadata": {},
     "output_type": "execute_result"
    }
   ],
   "source": [
    "nba_df = pd.read_csv(\"nba-games-stats.csv\")\n",
    "print(nba_df.shape)\n",
    "nba_df.sample(5)"
   ]
  },
  {
   "cell_type": "code",
   "execution_count": 4,
   "metadata": {
    "executionInfo": {
     "elapsed": 634,
     "status": "ok",
     "timestamp": 1595393266819,
     "user": {
      "displayName": "Hagar Greif",
      "photoUrl": "",
      "userId": "16439588397416278744"
     },
     "user_tz": -180
    },
    "id": "45Ma_-OpE8HS"
   },
   "outputs": [],
   "source": [
    "# Drop irrelevant column:\n",
    "\n",
    "nba_df=nba_df.drop('Unnamed: 0', axis=1)"
   ]
  },
  {
   "cell_type": "code",
   "execution_count": 5,
   "metadata": {
    "executionInfo": {
     "elapsed": 663,
     "status": "ok",
     "timestamp": 1595393269016,
     "user": {
      "displayName": "Hagar Greif",
      "photoUrl": "",
      "userId": "16439588397416278744"
     },
     "user_tz": -180
    },
    "id": "D6dtazflCA-E",
    "outputId": "b7c77fc4-47f4-4b66-c468-f062f1569bf9"
   },
   "outputs": [
    {
     "data": {
      "text/plain": [
       "(9840, 42)"
      ]
     },
     "execution_count": 5,
     "metadata": {},
     "output_type": "execute_result"
    }
   ],
   "source": [
    "# create defence rebounds field for team and opponent:\n",
    "\n",
    "nba_df['DefRebounds'] = nba_df['TotalRebounds'] - nba_df['OffRebounds']\n",
    "nba_df['Opp.DefRebounds'] = nba_df['Opp.TotalRebounds'] - nba_df['Opp.OffRebounds']\n",
    "nba_df.shape"
   ]
  },
  {
   "cell_type": "code",
   "execution_count": 6,
   "metadata": {
    "executionInfo": {
     "elapsed": 641,
     "status": "ok",
     "timestamp": 1595393270691,
     "user": {
      "displayName": "Hagar Greif",
      "photoUrl": "",
      "userId": "16439588397416278744"
     },
     "user_tz": -180
    },
    "id": "v5FfqXBJCA-H",
    "scrolled": true
   },
   "outputs": [],
   "source": [
    "# Cleaning texts for easier handling:\n",
    "\n",
    "nba_df.columns = nba_df.columns.str.replace('Opp.', 'Opp')\n",
    "nba_df.columns = nba_df.columns.str.replace('Opp3PointShots', 'OppX3PointShots' )"
   ]
  },
  {
   "cell_type": "code",
   "execution_count": 7,
   "metadata": {
    "executionInfo": {
     "elapsed": 637,
     "status": "ok",
     "timestamp": 1595393272412,
     "user": {
      "displayName": "Hagar Greif",
      "photoUrl": "",
      "userId": "16439588397416278744"
     },
     "user_tz": -180
    },
    "id": "1eXpVUJqCA-J"
   },
   "outputs": [],
   "source": [
    "# 2-class columns to Boolean:\n",
    "\n",
    "nba_df['Home'] = nba_df['Home'].replace(['Home', 'Away'], [1,0]).astype(str).astype(int)"
   ]
  },
  {
   "cell_type": "code",
   "execution_count": 8,
   "metadata": {
    "executionInfo": {
     "elapsed": 669,
     "status": "ok",
     "timestamp": 1595393277512,
     "user": {
      "displayName": "Hagar Greif",
      "photoUrl": "",
      "userId": "16439588397416278744"
     },
     "user_tz": -180
    },
    "id": "x4MySxZfhY7a"
   },
   "outputs": [],
   "source": [
    "# 2-class columns to Boolean - Leave Column as such for ML:\n",
    "\n",
    "nba_df['WINorLOSS'] = nba_df['WINorLOSS'].replace(['W', 'L'], [1,0]).astype(str).astype(int)"
   ]
  },
  {
   "cell_type": "markdown",
   "metadata": {
    "id": "qGdEYWru02RY"
   },
   "source": [
    "## Features Engineering:"
   ]
  },
  {
   "cell_type": "markdown",
   "metadata": {
    "id": "FDxAsmHxiALP"
   },
   "source": [
    "### Performance Index Rating calculates as:\n",
    "PIR = (Points + Rebounds + Assists + Steals + Blocks + Fouls Drawn) – (Missed Field Goals + Missed Free Throws + Turnovers + Shots Rejected + Fouls Committed)"
   ]
  },
  {
   "cell_type": "code",
   "execution_count": 9,
   "metadata": {
    "executionInfo": {
     "elapsed": 653,
     "status": "ok",
     "timestamp": 1595393280587,
     "user": {
      "displayName": "Hagar Greif",
      "photoUrl": "",
      "userId": "16439588397416278744"
     },
     "user_tz": -180
    },
    "id": "YrfU6hoLh69i"
   },
   "outputs": [],
   "source": [
    "PIR = ((nba_df['TeamPoints'] + nba_df['TotalRebounds'] + nba_df['Assists'] \n",
    "     + nba_df['Steals'] + nba_df['Blocks'] + nba_df['OppTotalFouls']) \n",
    "       \n",
    "       # Missed Field Goals:\n",
    "    - ((nba_df['FieldGoalsAttempted']- nba_df['FieldGoals'])\n",
    "       \n",
    "       # Missed Free Throws:\n",
    "    +(nba_df['FreeThrowsAttempted'] - nba_df['FreeThrows']) \n",
    "    + nba_df['Turnovers'] + nba_df['OppBlocks'] + nba_df['TotalFouls']))\n",
    "\n",
    "\n",
    "OppPIR = ((nba_df['OppnentPoints'] + nba_df['OppTotalRebounds'] + nba_df['OppAssists'] \n",
    "     + nba_df['OppSteals'] + nba_df['OppBlocks'] + nba_df['TotalFouls']) \n",
    "    - ((nba_df['OppFieldGoalsAttempted']- nba_df['OppFieldGoals'])\n",
    "    +(nba_df['OppFreeThrowsAttempted'] - nba_df['OppFreeThrows']) \n",
    "    + nba_df['OppTurnovers'] + nba_df['Blocks'] + nba_df['OppTotalFouls']))       \n",
    "\n",
    "nba_df['PIR'] = pd.Series(PIR)\n",
    "nba_df['OppPIR'] = pd.Series(OppPIR)"
   ]
  },
  {
   "cell_type": "code",
   "execution_count": 10,
   "metadata": {
    "executionInfo": {
     "elapsed": 719,
     "status": "ok",
     "timestamp": 1595393286745,
     "user": {
      "displayName": "Hagar Greif",
      "photoUrl": "",
      "userId": "16439588397416278744"
     },
     "user_tz": -180
    },
    "id": "h9ig4iQ8CA-O"
   },
   "outputs": [],
   "source": [
    "nba_df['Month'] = [int(m[5:7]) for m in nba_df['Date']]\n",
    "nba_df['Year'] = [int(y[:4]) for y in nba_df['Date']]"
   ]
  },
  {
   "cell_type": "code",
   "execution_count": 11,
   "metadata": {
    "executionInfo": {
     "elapsed": 659,
     "status": "ok",
     "timestamp": 1595393288268,
     "user": {
      "displayName": "Hagar Greif",
      "photoUrl": "",
      "userId": "16439588397416278744"
     },
     "user_tz": -180
    },
    "id": "z0ib9UB9FZJ8"
   },
   "outputs": [],
   "source": [
    "def seasons(d):\n",
    "  m=d[5:7]\n",
    "  y=d[:4] \n",
    "  if (y =='2014' and m in ('10','11','12')) or (y=='2015' and m in ('01','02','03','04')):\n",
    "    s='one'\n",
    "  elif (y=='2015' and m in ('10','11','12')) or (y=='2016' and m in ('01','02','03','04')):\n",
    "    s='two'\n",
    "  elif (y=='2016' and m in ('10','11','12')) or (y=='2017' and m in ('01','02','03','04')):\n",
    "    s='three'\n",
    "  else:\n",
    "    s='four'\n",
    "  return (s)\n",
    "\n",
    "nba_df['Season']=nba_df['Date'].apply(seasons)\n",
    "\n",
    "# Question: 1-4 are integers. Should we change to text?"
   ]
  },
  {
   "cell_type": "code",
   "execution_count": 12,
   "metadata": {
    "executionInfo": {
     "elapsed": 678,
     "status": "ok",
     "timestamp": 1595393290063,
     "user": {
      "displayName": "Hagar Greif",
      "photoUrl": "",
      "userId": "16439588397416278744"
     },
     "user_tz": -180
    },
    "id": "DD1rGXykCA-Q"
   },
   "outputs": [],
   "source": [
    "# Categorizing months into halfs (February contains the AllStar break). It will follow by dummies:\n",
    "\n",
    "def halfs(x):\n",
    "    if x in ('10','11','12','01'):\n",
    "        x = 'Pre_AllStar'\n",
    "    else:\n",
    "        x = 'Post_AllStar'\n",
    "    return (x)\n",
    "\n",
    "nba_df['Season_half']=nba_df['Month'].apply(halfs)"
   ]
  },
  {
   "cell_type": "code",
   "execution_count": 13,
   "metadata": {
    "executionInfo": {
     "elapsed": 650,
     "status": "ok",
     "timestamp": 1595393296473,
     "user": {
      "displayName": "Hagar Greif",
      "photoUrl": "",
      "userId": "16439588397416278744"
     },
     "user_tz": -180
    },
    "id": "F7OphqIMTvNd"
   },
   "outputs": [],
   "source": [
    "# Points Differance at the end of the game:\n",
    "\n",
    "nba_df['diff_points']=abs(nba_df['TeamPoints']-nba_df['OppnentPoints'])"
   ]
  },
  {
   "cell_type": "markdown",
   "metadata": {},
   "source": [
    "#### Team Rank (below) was tested, but caused features leakage, thus ignored"
   ]
  },
  {
   "cell_type": "code",
   "execution_count": 14,
   "metadata": {
    "executionInfo": {
     "elapsed": 698,
     "status": "ok",
     "timestamp": 1595306572655,
     "user": {
      "displayName": "Hagar Greif",
      "photoUrl": "",
      "userId": "16439588397416278744"
     },
     "user_tz": -180
    },
    "id": "718rO_-QlsXk",
    "outputId": "a368a6a4-fd6e-4bb7-e093-285006b5b7e2"
   },
   "outputs": [
    {
     "data": {
      "text/html": [
       "<div>\n",
       "<style scoped>\n",
       "    .dataframe tbody tr th:only-of-type {\n",
       "        vertical-align: middle;\n",
       "    }\n",
       "\n",
       "    .dataframe tbody tr th {\n",
       "        vertical-align: top;\n",
       "    }\n",
       "\n",
       "    .dataframe thead th {\n",
       "        text-align: right;\n",
       "    }\n",
       "</style>\n",
       "<table border=\"1\" class=\"dataframe\">\n",
       "  <thead>\n",
       "    <tr style=\"text-align: right;\">\n",
       "      <th></th>\n",
       "      <th></th>\n",
       "      <th>WINorLOSS</th>\n",
       "    </tr>\n",
       "    <tr>\n",
       "      <th>Team</th>\n",
       "      <th>Season</th>\n",
       "      <th></th>\n",
       "    </tr>\n",
       "  </thead>\n",
       "  <tbody>\n",
       "    <tr>\n",
       "      <th>NOP</th>\n",
       "      <th>two</th>\n",
       "      <td>30</td>\n",
       "    </tr>\n",
       "    <tr>\n",
       "      <th rowspan=\"4\" valign=\"top\">NYK</th>\n",
       "      <th>four</th>\n",
       "      <td>29</td>\n",
       "    </tr>\n",
       "    <tr>\n",
       "      <th>one</th>\n",
       "      <td>17</td>\n",
       "    </tr>\n",
       "    <tr>\n",
       "      <th>three</th>\n",
       "      <td>31</td>\n",
       "    </tr>\n",
       "    <tr>\n",
       "      <th>two</th>\n",
       "      <td>32</td>\n",
       "    </tr>\n",
       "    <tr>\n",
       "      <th rowspan=\"4\" valign=\"top\">OKC</th>\n",
       "      <th>four</th>\n",
       "      <td>48</td>\n",
       "    </tr>\n",
       "    <tr>\n",
       "      <th>one</th>\n",
       "      <td>45</td>\n",
       "    </tr>\n",
       "    <tr>\n",
       "      <th>three</th>\n",
       "      <td>47</td>\n",
       "    </tr>\n",
       "    <tr>\n",
       "      <th>two</th>\n",
       "      <td>55</td>\n",
       "    </tr>\n",
       "    <tr>\n",
       "      <th>ORL</th>\n",
       "      <th>four</th>\n",
       "      <td>25</td>\n",
       "    </tr>\n",
       "  </tbody>\n",
       "</table>\n",
       "</div>"
      ],
      "text/plain": [
       "             WINorLOSS\n",
       "Team Season           \n",
       "NOP  two            30\n",
       "NYK  four           29\n",
       "     one            17\n",
       "     three          31\n",
       "     two            32\n",
       "OKC  four           48\n",
       "     one            45\n",
       "     three          47\n",
       "     two            55\n",
       "ORL  four           25"
      ]
     },
     "execution_count": 14,
     "metadata": {},
     "output_type": "execute_result"
    }
   ],
   "source": [
    "total_wins_season = pd.DataFrame(nba_df.groupby(['Team', 'Season'])['WINorLOSS'].sum())\n",
    "total_wins_season.iloc[75:85]"
   ]
  },
  {
   "cell_type": "code",
   "execution_count": 15,
   "metadata": {
    "id": "tNYObQaUltUz"
   },
   "outputs": [],
   "source": [
    "team_rank = nba_df.merge(total_wins_season, left_on=['Team','Season'], right_index = True)\n",
    "nba_df['team_rank'] = team_rank['WINorLOSS_y']"
   ]
  },
  {
   "cell_type": "markdown",
   "metadata": {
    "id": "kuWef4FeDSjL"
   },
   "source": [
    "### DF for ML:"
   ]
  },
  {
   "cell_type": "code",
   "execution_count": 16,
   "metadata": {
    "executionInfo": {
     "elapsed": 665,
     "status": "ok",
     "timestamp": 1595393308039,
     "user": {
      "displayName": "Hagar Greif",
      "photoUrl": "",
      "userId": "16439588397416278744"
     },
     "user_tz": -180
    },
    "id": "ddgxTNnhbMzp"
   },
   "outputs": [],
   "source": [
    "nba_df_for_ML = nba_df[['Game', 'Home','WINorLOSS', 'Season', 'Season_half']].copy()"
   ]
  },
  {
   "cell_type": "markdown",
   "metadata": {
    "id": "CmmVk1LVVwCo"
   },
   "source": [
    "### Avg last 5_games:"
   ]
  },
  {
   "cell_type": "code",
   "execution_count": 17,
   "metadata": {
    "executionInfo": {
     "elapsed": 719,
     "status": "ok",
     "timestamp": 1595393317304,
     "user": {
      "displayName": "Hagar Greif",
      "photoUrl": "",
      "userId": "16439588397416278744"
     },
     "user_tz": -180
    },
    "id": "pC2AiN0QJqMe"
   },
   "outputs": [],
   "source": [
    "# Team stats coulmns are averaged for the last 5 games. The first 5 games are group_aggregated.\n",
    "# In some runs, Opponent Columns were averaged too, but it was not beneficial\n",
    "\n",
    "def five_last_games_avg(col):\n",
    "  first_games_avg_dict = {}\n",
    "\n",
    "  for idx in nba_df.index:\n",
    "    sum_points=0\n",
    "    if nba_df.loc[idx]['Game'] ==1:\n",
    "      first_games_avg = (nba_df.iloc[idx:idx+5][col].sum())/5\n",
    "      first_games_avg_dict.update({idx:first_games_avg})\n",
    "      for i in range(5):\n",
    "        first_games_avg_dict.update({idx+i:first_games_avg})\n",
    "    elif nba_df.loc[idx]['Game'] > 5:\n",
    "      y = nba_df.loc[idx]['Game'] -5\n",
    "      for i in range(y,nba_df.loc[idx]['Game']):\n",
    "          sum_points+=nba_df.loc[i][col]\n",
    "          first_games_avg_dict.update({idx:(sum_points/5)})\n",
    "\n",
    "  nba_df_for_ML[f'avg_{col}'] = pd.Series(first_games_avg_dict)"
   ]
  },
  {
   "cell_type": "code",
   "execution_count": 18,
   "metadata": {
    "executionInfo": {
     "elapsed": 317133,
     "status": "ok",
     "timestamp": 1595393642021,
     "user": {
      "displayName": "Hagar Greif",
      "photoUrl": "",
      "userId": "16439588397416278744"
     },
     "user_tz": -180
    },
    "id": "4BTF_IMaYDk0"
   },
   "outputs": [],
   "source": [
    "# VERY VERY SLOW:\n",
    "# %%timeit\n",
    "# 1 loop, best of 3: 5min 57s per loop\n",
    "\n",
    "nba_df_columns_for_avg = ['PIR', 'OppPIR','TeamPoints',\n",
    "        'FieldGoalsAttempted', 'FieldGoals.',\n",
    "        'X3PointShotsAttempted', 'X3PointShots.', \n",
    "       'FreeThrowsAttempted', 'FreeThrows.', 'OffRebounds', \n",
    "       'DefRebounds', 'Assists', 'Steals', 'Blocks', 'Turnovers', 'TotalFouls','diff_points']\n",
    "\n",
    "for a in nba_df_columns_for_avg:\n",
    "  five_last_games_avg(a)"
   ]
  },
  {
   "cell_type": "markdown",
   "metadata": {
    "id": "jIeuzY9Hz4Yf"
   },
   "source": [
    "### Calculating Rest Days:"
   ]
  },
  {
   "cell_type": "markdown",
   "metadata": {
    "id": "fBgrVBxMJdRb"
   },
   "source": [
    "https://www.thesportsgeek.com/sports-betting/nba/  and https://www.lineups.com/betting/nba-strategy/\n",
    "\n",
    "GAME DAYS WITH NO REST:\n",
    "- 3IN4-B2B: 3rd game in 4 days w/ playing on last 2 consecutive days (…X+O+[X+X])\n",
    "- Soft-B2B: 2nd game in 2 consecutive days. Pattern=…[X+X]\n",
    "AT LEAST 1 DAY REST:\n",
    "- 3IN4: 3rd game in 4 days and had 1 day rest yesterday. Pattern=…X+X+O+X\n",
    "- 1: Had 1 day rest (yesterday) and a playing a game today. Pattern=…O+X\n",
    "- 2: Had 2 days rest and a playing a game a game today. Pattern=…O+O+X\n",
    "- 3+: 3 or more days rest and playing a game today. Pattern=…O+O+O+X\n",
    "\n",
    "Consequently, scale is:\n",
    "- Consecutive game = -1\n",
    "- Rested Yesterday = 3\n",
    "- Rested 2 days ago = 2\n",
    "- Rested 3 days ago = 1"
   ]
  },
  {
   "cell_type": "code",
   "execution_count": 19,
   "metadata": {
    "executionInfo": {
     "elapsed": 692,
     "status": "ok",
     "timestamp": 1595393833572,
     "user": {
      "displayName": "Hagar Greif",
      "photoUrl": "",
      "userId": "16439588397416278744"
     },
     "user_tz": -180
    },
    "id": "smfJf0FAz-Ts"
   },
   "outputs": [],
   "source": [
    "from datetime import timedelta\n",
    "nba_df['Game_Date'] = pd.to_datetime(nba_df['Date'])"
   ]
  },
  {
   "cell_type": "code",
   "execution_count": 20,
   "metadata": {
    "executionInfo": {
     "elapsed": 1097,
     "status": "ok",
     "timestamp": 1595393836496,
     "user": {
      "displayName": "Hagar Greif",
      "photoUrl": "",
      "userId": "16439588397416278744"
     },
     "user_tz": -180
    },
    "id": "SgFEhF7l0A79"
   },
   "outputs": [],
   "source": [
    "def scale_rest_days(i):\n",
    "  x=nba_df.loc[i]['Game']\n",
    "  if x>3:\n",
    "    if (nba_df.loc[i]['Game_Date']- nba_df.loc[i-1]['Game_Date']).days==1:\n",
    "      if (nba_df.loc[i]['Game_Date']- nba_df.loc[i-2]['Game_Date']).days==2:\n",
    "        if (nba_df.loc[i]['Game_Date']- nba_df.loc[i-3]['Game_Date']).days==3:\n",
    "          return -3\n",
    "        else: \n",
    "          return -1\n",
    "      elif (nba_df.loc[i]['Game_Date']- nba_df.loc[i-2]['Game_Date']).days==3:\n",
    "        return 1\n",
    "      else:\n",
    "        return 2\n",
    "    elif (nba_df.loc[i]['Game_Date']- nba_df.loc[i-1]['Game_Date']).days==2:\n",
    "      if (nba_df.loc[i]['Game_Date']- nba_df.loc[i-2]['Game_Date']).days==3:\n",
    "        return 3\n",
    "      else:\n",
    "        return 4\n",
    "    elif (nba_df.loc[i]['Game_Date']- nba_df.loc[i-1]['Game_Date']).days==3:\n",
    "      return 5\n",
    "    else:\n",
    "      return 6\n",
    "  else:\n",
    "    return 0"
   ]
  },
  {
   "cell_type": "code",
   "execution_count": 21,
   "metadata": {
    "executionInfo": {
     "elapsed": 17923,
     "status": "ok",
     "timestamp": 1595393855853,
     "user": {
      "displayName": "Hagar Greif",
      "photoUrl": "",
      "userId": "16439588397416278744"
     },
     "user_tz": -180
    },
    "id": "DO2A34zP0EkH"
   },
   "outputs": [],
   "source": [
    "nba_df['ind']=nba_df.index.values\n",
    "nba_df_for_ML['rest_days_scale']= nba_df['ind'].apply(scale_rest_days)"
   ]
  },
  {
   "cell_type": "markdown",
   "metadata": {
    "id": "yJIymhpH9kj3"
   },
   "source": [
    "#### Create Wins Streak:"
   ]
  },
  {
   "cell_type": "code",
   "execution_count": 22,
   "metadata": {
    "executionInfo": {
     "elapsed": 5686,
     "status": "ok",
     "timestamp": 1595393958431,
     "user": {
      "displayName": "Hagar Greif",
      "photoUrl": "",
      "userId": "16439588397416278744"
     },
     "user_tz": -180
    },
    "id": "Nd8ALpI0pYe6"
   },
   "outputs": [],
   "source": [
    "def sum_wins():\n",
    "    streak_dict = {}\n",
    "    sum_wins = 0\n",
    "    for idx in nba_df_for_ML.index:\n",
    "        if nba_df_for_ML.loc[idx]['Game'] == 1:\n",
    "            sum_wins = nba_df_for_ML.loc[idx]['WINorLOSS']\n",
    "            streak_dict.update({idx:sum_wins})\n",
    "        else: \n",
    "            if nba_df_for_ML.loc[idx-1]['WINorLOSS'] == 0:\n",
    "                sum_wins=0\n",
    "                streak_dict.update({idx:sum_wins})\n",
    "            else:\n",
    "                sum_wins += nba_df_for_ML.loc[idx-1]['WINorLOSS']\n",
    "                streak_dict.update({idx:sum_wins})            \n",
    "    nba_df_for_ML['wins_streak'] = pd.Series(streak_dict)\n",
    "\n",
    "sum_wins()\n",
    "    "
   ]
  },
  {
   "cell_type": "code",
   "execution_count": 23,
   "metadata": {
    "executionInfo": {
     "elapsed": 640,
     "status": "ok",
     "timestamp": 1595393961439,
     "user": {
      "displayName": "Hagar Greif",
      "photoUrl": "",
      "userId": "16439588397416278744"
     },
     "user_tz": -180
    },
    "id": "GBcf50nYjljx",
    "outputId": "31deddd4-7bd4-44e1-bc35-c10c433f7874"
   },
   "outputs": [
    {
     "name": "stdout",
     "output_type": "stream",
     "text": [
      "(9840, 24)\n"
     ]
    },
    {
     "data": {
      "text/html": [
       "<div>\n",
       "<style scoped>\n",
       "    .dataframe tbody tr th:only-of-type {\n",
       "        vertical-align: middle;\n",
       "    }\n",
       "\n",
       "    .dataframe tbody tr th {\n",
       "        vertical-align: top;\n",
       "    }\n",
       "\n",
       "    .dataframe thead th {\n",
       "        text-align: right;\n",
       "    }\n",
       "</style>\n",
       "<table border=\"1\" class=\"dataframe\">\n",
       "  <thead>\n",
       "    <tr style=\"text-align: right;\">\n",
       "      <th></th>\n",
       "      <th>Game</th>\n",
       "      <th>Home</th>\n",
       "      <th>WINorLOSS</th>\n",
       "      <th>Season</th>\n",
       "      <th>Season_half</th>\n",
       "      <th>avg_PIR</th>\n",
       "      <th>avg_OppPIR</th>\n",
       "      <th>avg_TeamPoints</th>\n",
       "      <th>avg_FieldGoalsAttempted</th>\n",
       "      <th>avg_FieldGoals.</th>\n",
       "      <th>...</th>\n",
       "      <th>avg_OffRebounds</th>\n",
       "      <th>avg_DefRebounds</th>\n",
       "      <th>avg_Assists</th>\n",
       "      <th>avg_Steals</th>\n",
       "      <th>avg_Blocks</th>\n",
       "      <th>avg_Turnovers</th>\n",
       "      <th>avg_TotalFouls</th>\n",
       "      <th>avg_diff_points</th>\n",
       "      <th>rest_days_scale</th>\n",
       "      <th>wins_streak</th>\n",
       "    </tr>\n",
       "  </thead>\n",
       "  <tbody>\n",
       "    <tr>\n",
       "      <th>6221</th>\n",
       "      <td>72</td>\n",
       "      <td>1</td>\n",
       "      <td>0</td>\n",
       "      <td>three</td>\n",
       "      <td>Post_AllStar</td>\n",
       "      <td>111.2</td>\n",
       "      <td>117.4</td>\n",
       "      <td>99.8</td>\n",
       "      <td>82.2</td>\n",
       "      <td>0.4556</td>\n",
       "      <td>...</td>\n",
       "      <td>9.0</td>\n",
       "      <td>29.0</td>\n",
       "      <td>24.2</td>\n",
       "      <td>11.4</td>\n",
       "      <td>4.4</td>\n",
       "      <td>14.6</td>\n",
       "      <td>16.2</td>\n",
       "      <td>14.2</td>\n",
       "      <td>4</td>\n",
       "      <td>1</td>\n",
       "    </tr>\n",
       "    <tr>\n",
       "      <th>3011</th>\n",
       "      <td>60</td>\n",
       "      <td>1</td>\n",
       "      <td>1</td>\n",
       "      <td>two</td>\n",
       "      <td>Post_AllStar</td>\n",
       "      <td>110.8</td>\n",
       "      <td>90.2</td>\n",
       "      <td>98.6</td>\n",
       "      <td>83.6</td>\n",
       "      <td>0.4376</td>\n",
       "      <td>...</td>\n",
       "      <td>10.8</td>\n",
       "      <td>31.6</td>\n",
       "      <td>24.8</td>\n",
       "      <td>8.6</td>\n",
       "      <td>5.0</td>\n",
       "      <td>16.4</td>\n",
       "      <td>15.8</td>\n",
       "      <td>9.0</td>\n",
       "      <td>4</td>\n",
       "      <td>1</td>\n",
       "    </tr>\n",
       "    <tr>\n",
       "      <th>3630</th>\n",
       "      <td>23</td>\n",
       "      <td>0</td>\n",
       "      <td>1</td>\n",
       "      <td>two</td>\n",
       "      <td>Post_AllStar</td>\n",
       "      <td>114.6</td>\n",
       "      <td>87.2</td>\n",
       "      <td>97.0</td>\n",
       "      <td>83.4</td>\n",
       "      <td>0.4280</td>\n",
       "      <td>...</td>\n",
       "      <td>9.4</td>\n",
       "      <td>35.6</td>\n",
       "      <td>25.4</td>\n",
       "      <td>10.2</td>\n",
       "      <td>3.8</td>\n",
       "      <td>12.8</td>\n",
       "      <td>16.4</td>\n",
       "      <td>10.2</td>\n",
       "      <td>1</td>\n",
       "      <td>0</td>\n",
       "    </tr>\n",
       "    <tr>\n",
       "      <th>8211</th>\n",
       "      <td>12</td>\n",
       "      <td>1</td>\n",
       "      <td>1</td>\n",
       "      <td>four</td>\n",
       "      <td>Post_AllStar</td>\n",
       "      <td>122.2</td>\n",
       "      <td>114.6</td>\n",
       "      <td>104.4</td>\n",
       "      <td>83.0</td>\n",
       "      <td>0.4770</td>\n",
       "      <td>...</td>\n",
       "      <td>9.4</td>\n",
       "      <td>30.6</td>\n",
       "      <td>23.6</td>\n",
       "      <td>9.2</td>\n",
       "      <td>5.4</td>\n",
       "      <td>12.0</td>\n",
       "      <td>18.0</td>\n",
       "      <td>12.6</td>\n",
       "      <td>6</td>\n",
       "      <td>3</td>\n",
       "    </tr>\n",
       "    <tr>\n",
       "      <th>2919</th>\n",
       "      <td>50</td>\n",
       "      <td>1</td>\n",
       "      <td>1</td>\n",
       "      <td>two</td>\n",
       "      <td>Post_AllStar</td>\n",
       "      <td>116.2</td>\n",
       "      <td>108.4</td>\n",
       "      <td>102.8</td>\n",
       "      <td>82.6</td>\n",
       "      <td>0.4598</td>\n",
       "      <td>...</td>\n",
       "      <td>9.0</td>\n",
       "      <td>32.8</td>\n",
       "      <td>23.6</td>\n",
       "      <td>7.0</td>\n",
       "      <td>3.6</td>\n",
       "      <td>11.2</td>\n",
       "      <td>17.6</td>\n",
       "      <td>9.4</td>\n",
       "      <td>1</td>\n",
       "      <td>0</td>\n",
       "    </tr>\n",
       "  </tbody>\n",
       "</table>\n",
       "<p>5 rows × 24 columns</p>\n",
       "</div>"
      ],
      "text/plain": [
       "      Game  Home  WINorLOSS Season   Season_half  avg_PIR  avg_OppPIR  \\\n",
       "6221    72     1          0  three  Post_AllStar    111.2       117.4   \n",
       "3011    60     1          1    two  Post_AllStar    110.8        90.2   \n",
       "3630    23     0          1    two  Post_AllStar    114.6        87.2   \n",
       "8211    12     1          1   four  Post_AllStar    122.2       114.6   \n",
       "2919    50     1          1    two  Post_AllStar    116.2       108.4   \n",
       "\n",
       "      avg_TeamPoints  avg_FieldGoalsAttempted  avg_FieldGoals.  ...  \\\n",
       "6221            99.8                     82.2           0.4556  ...   \n",
       "3011            98.6                     83.6           0.4376  ...   \n",
       "3630            97.0                     83.4           0.4280  ...   \n",
       "8211           104.4                     83.0           0.4770  ...   \n",
       "2919           102.8                     82.6           0.4598  ...   \n",
       "\n",
       "      avg_OffRebounds  avg_DefRebounds  avg_Assists  avg_Steals  avg_Blocks  \\\n",
       "6221              9.0             29.0         24.2        11.4         4.4   \n",
       "3011             10.8             31.6         24.8         8.6         5.0   \n",
       "3630              9.4             35.6         25.4        10.2         3.8   \n",
       "8211              9.4             30.6         23.6         9.2         5.4   \n",
       "2919              9.0             32.8         23.6         7.0         3.6   \n",
       "\n",
       "      avg_Turnovers  avg_TotalFouls  avg_diff_points  rest_days_scale  \\\n",
       "6221           14.6            16.2             14.2                4   \n",
       "3011           16.4            15.8              9.0                4   \n",
       "3630           12.8            16.4             10.2                1   \n",
       "8211           12.0            18.0             12.6                6   \n",
       "2919           11.2            17.6              9.4                1   \n",
       "\n",
       "      wins_streak  \n",
       "6221            1  \n",
       "3011            1  \n",
       "3630            0  \n",
       "8211            3  \n",
       "2919            0  \n",
       "\n",
       "[5 rows x 24 columns]"
      ]
     },
     "execution_count": 23,
     "metadata": {},
     "output_type": "execute_result"
    }
   ],
   "source": [
    "print(nba_df_for_ML.shape)\n",
    "nba_df_for_ML.sample(5)"
   ]
  },
  {
   "cell_type": "markdown",
   "metadata": {
    "id": "uxVDtZLI1G_8"
   },
   "source": [
    "## Running Models:"
   ]
  },
  {
   "cell_type": "code",
   "execution_count": 24,
   "metadata": {
    "executionInfo": {
     "elapsed": 4236,
     "status": "ok",
     "timestamp": 1595393980674,
     "user": {
      "displayName": "Hagar Greif",
      "photoUrl": "",
      "userId": "16439588397416278744"
     },
     "user_tz": -180
    },
    "id": "weh7cbM7MkrW",
    "outputId": "b4445bdd-d4e0-465f-a5a7-83497f5af937"
   },
   "outputs": [],
   "source": [
    "from sklearn.tree import DecisionTreeClassifier\n",
    "from sklearn.metrics import log_loss, confusion_matrix, classification_report, accuracy_score\n",
    "from sklearn.model_selection import cross_val_score\n",
    "from sklearn.model_selection import StratifiedShuffleSplit\n",
    "from sklearn.model_selection import train_test_split"
   ]
  },
  {
   "cell_type": "markdown",
   "metadata": {
    "id": "JJprFglGGLDd"
   },
   "source": [
    "### Decision Tree:"
   ]
  },
  {
   "cell_type": "code",
   "execution_count": 25,
   "metadata": {
    "executionInfo": {
     "elapsed": 728,
     "status": "ok",
     "timestamp": 1595394037846,
     "user": {
      "displayName": "Hagar Greif",
      "photoUrl": "",
      "userId": "16439588397416278744"
     },
     "user_tz": -180
    },
    "id": "7gKXxVnJ3Hhb",
    "outputId": "4f389099-9e8c-43f6-e9f9-1aa81520e0b5"
   },
   "outputs": [
    {
     "data": {
      "text/plain": [
       "(9840, 27)"
      ]
     },
     "execution_count": 25,
     "metadata": {},
     "output_type": "execute_result"
    }
   ],
   "source": [
    "nba_df_dumm = pd.get_dummies(nba_df_for_ML)\n",
    "nba_df_for_ML.shape #(9840, 24)\n",
    "nba_df_dumm.shape"
   ]
  },
  {
   "cell_type": "code",
   "execution_count": 26,
   "metadata": {
    "executionInfo": {
     "elapsed": 706,
     "status": "ok",
     "timestamp": 1595394042054,
     "user": {
      "displayName": "Hagar Greif",
      "photoUrl": "",
      "userId": "16439588397416278744"
     },
     "user_tz": -180
    },
    "id": "ZRKQQt3bLI5n"
   },
   "outputs": [],
   "source": [
    "X = nba_df_dumm.drop(['WINorLOSS'], axis=1)\n",
    "y = nba_df_dumm.WINorLOSS\n",
    "\n",
    "X_train, X_test, y_train, y_test = train_test_split(X, y, \n",
    "                                                    train_size=0.75, \n",
    "                                                    test_size=0.25,\n",
    "                                                    shuffle=True, \n",
    "                                                    #stratify=nba_df_for_ML.WINorLOSS\n",
    "                                                    )"
   ]
  },
  {
   "cell_type": "code",
   "execution_count": 27,
   "metadata": {
    "executionInfo": {
     "elapsed": 725,
     "status": "ok",
     "timestamp": 1595394048490,
     "user": {
      "displayName": "Hagar Greif",
      "photoUrl": "",
      "userId": "16439588397416278744"
     },
     "user_tz": -180
    },
    "id": "Cs9mobe4J19c"
   },
   "outputs": [],
   "source": [
    "dt_model_1 = DecisionTreeClassifier(min_samples_leaf=3, min_weight_fraction_leaf=0.01, max_leaf_nodes=40).fit(X_train, y_train)"
   ]
  },
  {
   "cell_type": "code",
   "execution_count": 28,
   "metadata": {
    "executionInfo": {
     "elapsed": 1954,
     "status": "ok",
     "timestamp": 1595394051574,
     "user": {
      "displayName": "Hagar Greif",
      "photoUrl": "",
      "userId": "16439588397416278744"
     },
     "user_tz": -180
    },
    "id": "EEGD70sGJ7Iz",
    "outputId": "bc70a1f7-d7b1-4eaa-92db-f9f32705b3a7"
   },
   "outputs": [],
   "source": [
    "# visualize_tree(dt_model_1, md=5, width=1200)"
   ]
  },
  {
   "cell_type": "code",
   "execution_count": 29,
   "metadata": {
    "executionInfo": {
     "elapsed": 763,
     "status": "ok",
     "timestamp": 1595394061672,
     "user": {
      "displayName": "Hagar Greif",
      "photoUrl": "",
      "userId": "16439588397416278744"
     },
     "user_tz": -180
    },
    "id": "XGhDLPV5UbEJ",
    "outputId": "7e545249-c6b0-4b65-a2a3-e53557330aa8"
   },
   "outputs": [
    {
     "data": {
      "image/png": "[encoded data removed]",
      "text/plain": [
       "<Figure size 432x288 with 1 Axes>"
      ]
     },
     "metadata": {
      "needs_background": "light"
     },
     "output_type": "display_data"
    }
   ],
   "source": [
    "pd.Series(dt_model_1.feature_importances_, index=X_train.columns).sort_values().tail(20)\\\n",
    "    .plot.barh(title='Features importance');"
   ]
  },
  {
   "cell_type": "code",
   "execution_count": 30,
   "metadata": {
    "executionInfo": {
     "elapsed": 650,
     "status": "ok",
     "timestamp": 1595394075993,
     "user": {
      "displayName": "Hagar Greif",
      "photoUrl": "",
      "userId": "16439588397416278744"
     },
     "user_tz": -180
    },
    "id": "lP7wSFwKVK15",
    "outputId": "c89b7361-f0d9-4876-bfe1-e7051e197663"
   },
   "outputs": [
    {
     "data": {
      "text/plain": [
       "Season_two                   0.000000\n",
       "avg_Assists                  0.010132\n",
       "Season_four                  0.010153\n",
       "avg_TeamPoints               0.012427\n",
       "avg_Steals                   0.014215\n",
       "avg_Turnovers                0.015521\n",
       "avg_FieldGoals.              0.017759\n",
       "Season_one                   0.017992\n",
       "avg_FreeThrowsAttempted      0.019817\n",
       "avg_DefRebounds              0.021793\n",
       "avg_Blocks                   0.024645\n",
       "rest_days_scale              0.028433\n",
       "avg_FreeThrows.              0.029157\n",
       "avg_diff_points              0.029187\n",
       "avg_OppPIR                   0.033200\n",
       "avg_PIR                      0.039738\n",
       "avg_X3PointShotsAttempted    0.040839\n",
       "Game                         0.048567\n",
       "wins_streak                  0.222387\n",
       "Home                         0.364039\n",
       "dtype: float64"
      ]
     },
     "execution_count": 30,
     "metadata": {},
     "output_type": "execute_result"
    }
   ],
   "source": [
    "features_importance = pd.Series(dt_model_1.feature_importances_, index=X_train.columns).sort_values().tail(20)\n",
    "features_importance"
   ]
  },
  {
   "cell_type": "code",
   "execution_count": 31,
   "metadata": {},
   "outputs": [
    {
     "data": {
      "text/plain": [
       "0.69"
      ]
     },
     "execution_count": 31,
     "metadata": {},
     "output_type": "execute_result"
    }
   ],
   "source": [
    "# Cross Validation:\n",
    "\n",
    "(-cross_val_score(dt_model_1, X_train, y_train, cv=9, scoring='neg_log_loss')).mean().round(3)\n",
    "\n",
    "# f1 was also tested with worse results"
   ]
  },
  {
   "cell_type": "code",
   "execution_count": 32,
   "metadata": {
    "executionInfo": {
     "elapsed": 680,
     "status": "ok",
     "timestamp": 1595394114553,
     "user": {
      "displayName": "Hagar Greif",
      "photoUrl": "",
      "userId": "16439588397416278744"
     },
     "user_tz": -180
    },
    "id": "6OBF9iS2qSfM"
   },
   "outputs": [
    {
     "data": {
      "text/plain": [
       "0.694"
      ]
     },
     "execution_count": 32,
     "metadata": {},
     "output_type": "execute_result"
    }
   ],
   "source": [
    "y_test_pred = pd.DataFrame(dt_model_1.predict_proba(X_test), \n",
    "                        columns=dt_model_1.classes_)\n",
    "\n",
    "log_loss(y_test, y_test_pred).mean().round(3)"
   ]
  },
  {
   "cell_type": "code",
   "execution_count": 33,
   "metadata": {},
   "outputs": [],
   "source": [
    "\n",
    "y_score = dt_model_1.predict(X_test)"
   ]
  },
  {
   "cell_type": "code",
   "execution_count": 34,
   "metadata": {},
   "outputs": [
    {
     "data": {
      "text/plain": [
       "Text(0.5, 1.0, '2-class Precision-Recall curve: AP=0.54')"
      ]
     },
     "execution_count": 34,
     "metadata": {},
     "output_type": "execute_result"
    },
    {
     "data": {
      "image/png": "[encoded data removed]",
      "text/plain": [
       "<Figure size 432x288 with 1 Axes>"
      ]
     },
     "metadata": {
      "needs_background": "light"
     },
     "output_type": "display_data"
    }
   ],
   "source": [
    "from sklearn.metrics import precision_recall_curve\n",
    "from sklearn.metrics import plot_precision_recall_curve\n",
    "import matplotlib.pyplot as plt\n",
    "from sklearn.metrics import average_precision_score\n",
    "\n",
    "\n",
    "\n",
    "# y_score = dt_model_1.fit(X_train, y_train).predict_proba(X_test)\n",
    "\n",
    "\n",
    "average_precision = average_precision_score(y_test, y_score)\n",
    "disp = plot_precision_recall_curve(dt_model_1, X_test, y_test)\n",
    "disp.ax_.set_title('2-class Precision-Recall curve: '\n",
    "                   'AP={0:0.2f}'.format(average_precision))"
   ]
  },
  {
   "cell_type": "markdown",
   "metadata": {},
   "source": [
    "Model is Valid"
   ]
  },
  {
   "cell_type": "markdown",
   "metadata": {},
   "source": [
    "\n",
    "In order to improve score, a limited set of features were selected by Features Importance. Since 'Home' and 'wins_streak' were the most important by far, they were removed in order to select for the best of weaker features. Consequently, limited DF was analysed ('wins_streak', 'Home', 'avg_FreeThrowsAttempted', 'avg_FreeThrows.', 'avg_TotalFouls', 'rest_days_scale'). Alas, with no better results..."
   ]
  },
  {
   "cell_type": "markdown",
   "metadata": {
    "id": "VSes9FndV9TW"
   },
   "source": [
    "### Random Forest & Grid Search:"
   ]
  },
  {
   "cell_type": "code",
   "execution_count": 35,
   "metadata": {
    "executionInfo": {
     "elapsed": 696,
     "status": "ok",
     "timestamp": 1595394375151,
     "user": {
      "displayName": "Hagar Greif",
      "photoUrl": "",
      "userId": "16439588397416278744"
     },
     "user_tz": -180
    },
    "id": "m1nsz87ix6yE"
   },
   "outputs": [],
   "source": [
    "from sklearn.ensemble import RandomForestClassifier\n",
    "from sklearn.model_selection import GridSearchCV"
   ]
  },
  {
   "cell_type": "code",
   "execution_count": 36,
   "metadata": {
    "executionInfo": {
     "elapsed": 58017,
     "status": "ok",
     "timestamp": 1595394537256,
     "user": {
      "displayName": "Hagar Greif",
      "photoUrl": "",
      "userId": "16439588397416278744"
     },
     "user_tz": -180
    },
    "id": "5Vy96raxWAkW",
    "outputId": "67ddf26b-e576-4273-89f8-2e636d91890b"
   },
   "outputs": [
    {
     "data": {
      "text/plain": [
       "GridSearchCV(cv=7,\n",
       "             estimator=RandomForestClassifier(max_leaf_nodes=100,\n",
       "                                              min_weight_fraction_leaf=0.01),\n",
       "             param_grid=[{'max_leaf_nodes': [30, 70, 100],\n",
       "                          'min_samples_leaf': [30, 70, 100],\n",
       "                          'n_estimators': [30, 70, 100]}],\n",
       "             scoring='neg_log_loss')"
      ]
     },
     "execution_count": 36,
     "metadata": {},
     "output_type": "execute_result"
    }
   ],
   "source": [
    "random_forest = RandomForestClassifier(n_estimators=100,max_leaf_nodes=100, min_weight_fraction_leaf= 0.01)\n",
    "my_param_grid = [{\"n_estimators\": [30, 70 ,100],\"max_leaf_nodes\": [30, 70, 100], \"min_samples_leaf\" : [30, 70, 100]}]\n",
    "k = 7\n",
    "random_forest_gs = GridSearchCV(random_forest, my_param_grid, scoring='neg_log_loss',cv=k)\n",
    "random_forest_gs.fit(X_train, y_train)"
   ]
  },
  {
   "cell_type": "code",
   "execution_count": 37,
   "metadata": {
    "executionInfo": {
     "elapsed": 666,
     "status": "ok",
     "timestamp": 1595394937582,
     "user": {
      "displayName": "Hagar Greif",
      "photoUrl": "",
      "userId": "16439588397416278744"
     },
     "user_tz": -180
    },
    "id": "v9d5SmguBvLo",
    "outputId": "a1bd4044-f829-475a-ecfb-bf13b2b1c2aa"
   },
   "outputs": [
    {
     "data": {
      "text/plain": [
       "{'max_leaf_nodes': 100, 'min_samples_leaf': 100, 'n_estimators': 100}"
      ]
     },
     "execution_count": 37,
     "metadata": {},
     "output_type": "execute_result"
    }
   ],
   "source": [
    "random_forest_gs.best_params_"
   ]
  },
  {
   "cell_type": "code",
   "execution_count": 38,
   "metadata": {
    "executionInfo": {
     "elapsed": 702,
     "status": "ok",
     "timestamp": 1595394948284,
     "user": {
      "displayName": "Hagar Greif",
      "photoUrl": "",
      "userId": "16439588397416278744"
     },
     "user_tz": -180
    },
    "id": "vIGXpqHpaR7o",
    "outputId": "9ce5fbab-f4b0-456a-cdd9-983f12e5a719"
   },
   "outputs": [],
   "source": [
    "random_forest_2 = random_forest_gs.best_estimator_"
   ]
  },
  {
   "cell_type": "code",
   "execution_count": 39,
   "metadata": {
    "executionInfo": {
     "elapsed": 720,
     "status": "ok",
     "timestamp": 1595394953185,
     "user": {
      "displayName": "Hagar Greif",
      "photoUrl": "",
      "userId": "16439588397416278744"
     },
     "user_tz": -180
    },
    "id": "Yyh9b5GKtx9t"
   },
   "outputs": [],
   "source": [
    "y_test_pred = pd.DataFrame(random_forest_2.predict_proba(X_test), \n",
    "                           columns=random_forest_2.classes_)"
   ]
  },
  {
   "cell_type": "code",
   "execution_count": 40,
   "metadata": {
    "executionInfo": {
     "elapsed": 646,
     "status": "ok",
     "timestamp": 1595394956794,
     "user": {
      "displayName": "Hagar Greif",
      "photoUrl": "",
      "userId": "16439588397416278744"
     },
     "user_tz": -180
    },
    "id": "N9C9OlXpt1b0",
    "outputId": "96b541f6-8c86-4318-8854-9ed99b80db67"
   },
   "outputs": [
    {
     "data": {
      "text/plain": [
       "0.681"
      ]
     },
     "execution_count": 40,
     "metadata": {},
     "output_type": "execute_result"
    }
   ],
   "source": [
    "log_loss(y_true=y_test, y_pred=y_test_pred).mean().round(3)"
   ]
  },
  {
   "cell_type": "code",
   "execution_count": 41,
   "metadata": {
    "executionInfo": {
     "elapsed": 5290,
     "status": "ok",
     "timestamp": 1595394966458,
     "user": {
      "displayName": "Hagar Greif",
      "photoUrl": "",
      "userId": "16439588397416278744"
     },
     "user_tz": -180
    },
    "id": "1e2gbK46d7s7",
    "outputId": "7a1236a1-ddc9-4520-8ae2-f323dff734f0"
   },
   "outputs": [
    {
     "data": {
      "text/plain": [
       "0.675"
      ]
     },
     "execution_count": 41,
     "metadata": {},
     "output_type": "execute_result"
    }
   ],
   "source": [
    "(-cross_val_score(random_forest_2, X_train, y_train, cv=10, scoring='neg_log_loss')).mean().round(3)"
   ]
  },
  {
   "cell_type": "code",
   "execution_count": 42,
   "metadata": {},
   "outputs": [
    {
     "data": {
      "text/plain": [
       "0.694"
      ]
     },
     "execution_count": 42,
     "metadata": {},
     "output_type": "execute_result"
    }
   ],
   "source": [
    "y_test_pred = pd.DataFrame(dt_model_1.predict_proba(X_test), \n",
    "                        columns=dt_model_1.classes_)\n",
    "\n",
    "log_loss(y_test, y_test_pred).mean().round(3)"
   ]
  },
  {
   "cell_type": "markdown",
   "metadata": {},
   "source": [
    "Model is Valid"
   ]
  },
  {
   "cell_type": "markdown",
   "metadata": {
    "id": "Hyx2ZLhjF7IW"
   },
   "source": [
    "### Ensamble Models Using Random Forest Classifier:"
   ]
  },
  {
   "cell_type": "markdown",
   "metadata": {},
   "source": [
    "Ensemble models are presented although they didn't display improved scoring"
   ]
  },
  {
   "cell_type": "markdown",
   "metadata": {},
   "source": [
    "### Naïve Bayes:"
   ]
  },
  {
   "cell_type": "code",
   "execution_count": 45,
   "metadata": {},
   "outputs": [
    {
     "name": "stdout",
     "output_type": "stream",
     "text": [
      "Naive Bayes classifier:\n",
      "     \ttrain accuracy: 0.577\n",
      "     \ttest accuracy: 0.556\n"
     ]
    }
   ],
   "source": [
    "from sklearn.naive_bayes import GaussianNB\n",
    "\n",
    "gnb = GaussianNB()\n",
    "gnb.fit(X_train, y_train)\n",
    "\n",
    "print(f\"Naive Bayes classifier:\\n \\\n",
    "    \\ttrain accuracy: {gnb.score(X_train, y_train):.3f}\\n \\\n",
    "    \\ttest accuracy: {gnb.score(X_test, y_test):.3f}\")\n"
   ]
  },
  {
   "cell_type": "markdown",
   "metadata": {
    "id": "SQZ6wO0cK_Xs"
   },
   "source": [
    "### Bagging:"
   ]
  },
  {
   "cell_type": "code",
   "execution_count": 46,
   "metadata": {
    "executionInfo": {
     "elapsed": 745,
     "status": "ok",
     "timestamp": 1595394979794,
     "user": {
      "displayName": "Hagar Greif",
      "photoUrl": "",
      "userId": "16439588397416278744"
     },
     "user_tz": -180
    },
    "id": "ksp69rPbFdF2"
   },
   "outputs": [],
   "source": [
    "from sklearn.ensemble import VotingClassifier, BaggingClassifier, AdaBoostClassifier, GradientBoostingClassifier"
   ]
  },
  {
   "cell_type": "code",
   "execution_count": 47,
   "metadata": {
    "executionInfo": {
     "elapsed": 38367,
     "status": "ok",
     "timestamp": 1595395338066,
     "user": {
      "displayName": "Hagar Greif",
      "photoUrl": "",
      "userId": "16439588397416278744"
     },
     "user_tz": -180
    },
    "id": "T3DRbon4eShl",
    "outputId": "0354b33f-be4f-41f2-ff59-b909311c3f30"
   },
   "outputs": [
    {
     "data": {
      "text/plain": [
       "BaggingClassifier(base_estimator=RandomForestClassifier(max_leaf_nodes=100,\n",
       "                                                        min_samples_leaf=100,\n",
       "                                                        min_weight_fraction_leaf=0.01),\n",
       "                  max_features=0.8, n_estimators=100)"
      ]
     },
     "execution_count": 47,
     "metadata": {},
     "output_type": "execute_result"
    }
   ],
   "source": [
    "clf_bagging = BaggingClassifier(base_estimator=random_forest_2, n_estimators=100, max_features=0.8)\n",
    "clf_bagging.fit(X_train, y_train)\n",
    "\n",
    "# done also with dt_model_1 (Decision Tree Classifier), with similar results"
   ]
  },
  {
   "cell_type": "code",
   "execution_count": 49,
   "metadata": {
    "executionInfo": {
     "elapsed": 10126,
     "status": "ok",
     "timestamp": 1595395374826,
     "user": {
      "displayName": "Hagar Greif",
      "photoUrl": "",
      "userId": "16439588397416278744"
     },
     "user_tz": -180
    },
    "id": "IcoVBhCGFuFt",
    "outputId": "143b07d6-e994-417f-bbe2-578dd39bac17"
   },
   "outputs": [
    {
     "name": "stdout",
     "output_type": "stream",
     "text": [
      "Bagging classifier:\n",
      "     \ttrain accuracy: 0.611\n",
      "     \ttest accuracy: 0.572\n"
     ]
    }
   ],
   "source": [
    "print(f\"Bagging classifier:\\n \\\n",
    "    \\ttrain accuracy: {clf_bagging.score(X_train, y_train):.3f}\\n \\\n",
    "    \\ttest accuracy: {clf_bagging.score(X_test, y_test):.3f}\")"
   ]
  },
  {
   "cell_type": "markdown",
   "metadata": {
    "id": "I4PY0UKULEy_"
   },
   "source": [
    "### AdaBoost:"
   ]
  },
  {
   "cell_type": "code",
   "execution_count": 50,
   "metadata": {
    "executionInfo": {
     "elapsed": 110131,
     "status": "ok",
     "timestamp": 1595395613672,
     "user": {
      "displayName": "Hagar Greif",
      "photoUrl": "",
      "userId": "16439588397416278744"
     },
     "user_tz": -180
    },
    "id": "art7U0W1F2DZ",
    "outputId": "03b05592-45f2-429d-c172-c9ca7082d743"
   },
   "outputs": [
    {
     "data": {
      "text/plain": [
       "AdaBoostClassifier(base_estimator=RandomForestClassifier(max_leaf_nodes=100,\n",
       "                                                         min_samples_leaf=100,\n",
       "                                                         min_weight_fraction_leaf=0.01),\n",
       "                   learning_rate=0.01, n_estimators=200)"
      ]
     },
     "execution_count": 50,
     "metadata": {},
     "output_type": "execute_result"
    }
   ],
   "source": [
    "clf_adaboost = AdaBoostClassifier(base_estimator=random_forest_2,\n",
    "                                  n_estimators=200,\n",
    "                                  learning_rate=0.01)\n",
    "clf_adaboost.fit(X_train, y_train)"
   ]
  },
  {
   "cell_type": "code",
   "execution_count": 51,
   "metadata": {
    "executionInfo": {
     "elapsed": 20368,
     "status": "ok",
     "timestamp": 1595395645070,
     "user": {
      "displayName": "Hagar Greif",
      "photoUrl": "",
      "userId": "16439588397416278744"
     },
     "user_tz": -180
    },
    "id": "DojGJ9RuKwBN",
    "outputId": "b3288266-9663-4b4c-b96e-6bb956c8bf06"
   },
   "outputs": [
    {
     "name": "stdout",
     "output_type": "stream",
     "text": [
      "DT ADA boosting classifier:\n",
      "     \ttrain accuracy: 0.626\n",
      "     \ttest accuracy: 0.573\n"
     ]
    }
   ],
   "source": [
    "print(f\"DT ADA boosting classifier:\\n \\\n",
    "    \\ttrain accuracy: {clf_adaboost.score(X_train, y_train):.3f}\\n \\\n",
    "    \\ttest accuracy: {clf_adaboost.score(X_test, y_test):.3f}\")"
   ]
  },
  {
   "cell_type": "markdown",
   "metadata": {
    "id": "V1n2xrO3tfni"
   },
   "source": [
    "### Logistic Regression:"
   ]
  },
  {
   "cell_type": "code",
   "execution_count": 52,
   "metadata": {
    "executionInfo": {
     "elapsed": 1098,
     "status": "ok",
     "timestamp": 1595395740296,
     "user": {
      "displayName": "Hagar Greif",
      "photoUrl": "",
      "userId": "16439588397416278744"
     },
     "user_tz": -180
    },
    "id": "vBTxRP00xYIj"
   },
   "outputs": [],
   "source": [
    "from sklearn.linear_model import LogisticRegression"
   ]
  },
  {
   "cell_type": "code",
   "execution_count": 53,
   "metadata": {
    "executionInfo": {
     "elapsed": 699,
     "status": "ok",
     "timestamp": 1595395742414,
     "user": {
      "displayName": "Hagar Greif",
      "photoUrl": "",
      "userId": "16439588397416278744"
     },
     "user_tz": -180
    },
    "id": "Vvy1ft-rtd4h"
   },
   "outputs": [],
   "source": [
    "nba_lr = LogisticRegression(max_iter=1000)"
   ]
  },
  {
   "cell_type": "code",
   "execution_count": 54,
   "metadata": {
    "executionInfo": {
     "elapsed": 699,
     "status": "ok",
     "timestamp": 1595395744517,
     "user": {
      "displayName": "Hagar Greif",
      "photoUrl": "",
      "userId": "16439588397416278744"
     },
     "user_tz": -180
    },
    "id": "88RJCxFcye2E"
   },
   "outputs": [
    {
     "data": {
      "text/plain": [
       "LogisticRegression(max_iter=1000)"
      ]
     },
     "execution_count": 54,
     "metadata": {},
     "output_type": "execute_result"
    }
   ],
   "source": [
    "X = nba_df_dumm.drop(['WINorLOSS'], axis=1)\n",
    "y = nba_df_dumm.WINorLOSS\n",
    "\n",
    "nba_lr.fit(X, y)"
   ]
  },
  {
   "cell_type": "code",
   "execution_count": 55,
   "metadata": {
    "executionInfo": {
     "elapsed": 791,
     "status": "ok",
     "timestamp": 1595395780557,
     "user": {
      "displayName": "Hagar Greif",
      "photoUrl": "",
      "userId": "16439588397416278744"
     },
     "user_tz": -180
    },
    "id": "1uX9-iSx0E4z",
    "outputId": "9452d442-aedb-4dd2-bbac-4b89e109b802"
   },
   "outputs": [
    {
     "data": {
      "text/plain": [
       "0.59"
      ]
     },
     "execution_count": 55,
     "metadata": {},
     "output_type": "execute_result"
    }
   ],
   "source": [
    "accuracy_score(y_true=y_train,\n",
    "               y_pred=nba_lr.predict(X_train)).mean().round(3)"
   ]
  },
  {
   "cell_type": "code",
   "execution_count": 56,
   "metadata": {
    "executionInfo": {
     "elapsed": 2205,
     "status": "ok",
     "timestamp": 1595395757362,
     "user": {
      "displayName": "Hagar Greif",
      "photoUrl": "",
      "userId": "16439588397416278744"
     },
     "user_tz": -180
    },
    "id": "ss1P29OeviFX",
    "outputId": "a8c4640d-3d61-4960-bf56-21ed6bd521b0"
   },
   "outputs": [
    {
     "data": {
      "text/plain": [
       "0.673"
      ]
     },
     "execution_count": 56,
     "metadata": {},
     "output_type": "execute_result"
    }
   ],
   "source": [
    "(-cross_val_score(nba_lr, X_train, y_train, cv=9, scoring='neg_log_loss')).mean().round(3)"
   ]
  },
  {
   "cell_type": "code",
   "execution_count": 57,
   "metadata": {
    "executionInfo": {
     "elapsed": 2102,
     "status": "ok",
     "timestamp": 1595395765052,
     "user": {
      "displayName": "Hagar Greif",
      "photoUrl": "",
      "userId": "16439588397416278744"
     },
     "user_tz": -180
    },
    "id": "l5ppJ0lFviFd",
    "outputId": "518f4068-57ee-45fa-866e-94f34ced8c49"
   },
   "outputs": [
    {
     "data": {
      "text/plain": [
       "0.588"
      ]
     },
     "execution_count": 57,
     "metadata": {},
     "output_type": "execute_result"
    }
   ],
   "source": [
    "cross_val_score(nba_lr, X_train, y_train, cv=9, scoring='accuracy').mean().round(3)"
   ]
  },
  {
   "cell_type": "markdown",
   "metadata": {},
   "source": [
    "## FINal"
   ]
  },
  {
   "cell_type": "code",
   "execution_count": 58,
   "metadata": {},
   "outputs": [],
   "source": [
    "from sklearn.metrics import fbeta_score,accuracy_score\n",
    "from time import time\n",
    "\n",
    "def train_predict(learner, sample_size, X_train, y_train, X_test, y_test): \n",
    "    '''\n",
    "    inputs:\n",
    "       - learner: the learning algorithm to be trained and predicted on\n",
    "       - sample_size: the size of samples (number) to be drawn from training set\n",
    "       - X_train: features training set\n",
    "       - y_train: income training set\n",
    "       - X_test: features testing set\n",
    "       - y_test: income testing set\n",
    "    '''\n",
    "    \n",
    "    results = {}\n",
    "    \n",
    "    # Fit the learner to the training data using slicing with 'sample_size' using .fit(training_features[:], training_labels[:])\n",
    "    start = time() # Get start time\n",
    "    learner = learner.fit(X_train[:sample_size], y_train[:sample_size])\n",
    "    end = time() # Get end time\n",
    "    \n",
    "    #  Calculate the training time\n",
    "    results['train_time'] = end - start\n",
    "        \n",
    "    # TODO: Get the predictions on the test set(X_test),\n",
    "    #       then get predictions on the first 300 training samples(X_train) using .predict()\n",
    "    start = time() # Get start time\n",
    "    predictions_test = learner.predict(X_test)\n",
    "    predictions_train = learner.predict(X_train[:300])\n",
    "    end = time() # Get end time\n",
    "    \n",
    "    # Calculate the total prediction time\n",
    "    results['pred_time'] = end - start\n",
    "            \n",
    "    #  Compute accuracy on the first 300 training samples which is y_train[:300]\n",
    "    results['acc_train'] = accuracy_score(y_train[:300], predictions_train)\n",
    "        \n",
    "    # Compute accuracy on test set using accuracy_score()\n",
    "    results['acc_test'] = accuracy_score(y_test, predictions_test)\n",
    "    \n",
    "    #  Compute F-score on the the first 300 training samples using fbeta_score()\n",
    "    results['f_train'] = fbeta_score(y_train[:300], predictions_train, beta=0.5)\n",
    "        \n",
    "    # Compute F-score on the test set which is y_test\n",
    "    results['f_test'] = fbeta_score(y_test, predictions_test, beta=0.5)\n",
    "       \n",
    "    # Success\n",
    "    print(\"{} trained on {} samples.\".format(learner.__class__.__name__, sample_size))\n",
    "        \n",
    "    # Return the results\n",
    "    return results"
   ]
  },
  {
   "cell_type": "code",
   "execution_count": 59,
   "metadata": {
    "scrolled": false
   },
   "outputs": [
    {
     "name": "stdout",
     "output_type": "stream",
     "text": [
      "RandomForestClassifier trained on 73 samples.\n",
      "RandomForestClassifier trained on 738 samples.\n",
      "RandomForestClassifier trained on 7380 samples.\n",
      "SVC trained on 73 samples.\n",
      "SVC trained on 738 samples.\n",
      "SVC trained on 7380 samples.\n",
      "AdaBoostClassifier trained on 73 samples.\n",
      "AdaBoostClassifier trained on 738 samples.\n",
      "AdaBoostClassifier trained on 7380 samples.\n"
     ]
    }
   ],
   "source": [
    "import visuals as vs\n",
    "\n",
    "from sklearn.ensemble import AdaBoostClassifier\n",
    "from sklearn.ensemble import RandomForestClassifier\n",
    "from sklearn.svm import SVC\n",
    "# TODO: Initialize the three models\n",
    "clf_A = RandomForestClassifier()\n",
    "clf_B = SVC()\n",
    "clf_C = AdaBoostClassifier()\n",
    "\n",
    "# TODO: Calculate the number of samples for 1%, 10%, and 100% of the training data\n",
    "# HINT: samples_100 is the entire training set i.e. len(y_train)\n",
    "# HINT: samples_10 is 10% of samples_100 (ensure to set the count of the values to be `int` and not `float`)\n",
    "# HINT: samples_1 is 1% of samples_100 (ensure to set the count of the values to be `int` and not `float`)\n",
    "samples_100 = len(y_train)\n",
    "samples_10 = int(len(y_train) * 0.1)\n",
    "samples_1 = int(len(y_train) * 0.01)\n",
    "\n",
    "# Collect results on the learners\n",
    "results = {}\n",
    "for clf in [clf_A, clf_B, clf_C]:\n",
    "    clf_name = clf.__class__.__name__\n",
    "    results[clf_name] = {}\n",
    "    for i, samples in enumerate([samples_1, samples_10, samples_100]):\n",
    "        results[clf_name][i] = \\\n",
    "        train_predict(clf, samples, X_train, y_train, X_test, y_test)\n",
    "\n",
    "# Run metrics visualization for the three supervised learning models chosen\n",
    "#vs.evaluate(results, accuracy, fscore)"
   ]
  },
  {
   "cell_type": "code",
   "execution_count": 60,
   "metadata": {},
   "outputs": [
    {
     "data": {
      "text/plain": [
       "{0: {'train_time': 0.035032033920288086,\n",
       "  'pred_time': 0.019017457962036133,\n",
       "  'acc_train': 0.6066666666666667,\n",
       "  'acc_test': 0.5113821138211382,\n",
       "  'f_train': 0.5815602836879432,\n",
       "  'f_test': 0.5024532073414502},\n",
       " 1: {'train_time': 0.058052778244018555,\n",
       "  'pred_time': 0.018016338348388672,\n",
       "  'acc_train': 0.6366666666666667,\n",
       "  'acc_test': 0.5357723577235772,\n",
       "  'f_train': 0.6131386861313869,\n",
       "  'f_test': 0.5340731749609849},\n",
       " 2: {'train_time': 0.22320294380187988,\n",
       "  'pred_time': 0.01801609992980957,\n",
       "  'acc_train': 0.5466666666666666,\n",
       "  'acc_test': 0.5686991869918699,\n",
       "  'f_train': 0.5266579973992198,\n",
       "  'f_test': 0.5735082386818109}}"
      ]
     },
     "execution_count": 60,
     "metadata": {},
     "output_type": "execute_result"
    }
   ],
   "source": [
    "results['AdaBoostClassifier']"
   ]
  },
  {
   "cell_type": "code",
   "execution_count": 61,
   "metadata": {},
   "outputs": [
    {
     "name": "stdout",
     "output_type": "stream",
     "text": [
      "Unoptimized model\n",
      "------\n",
      "Accuracy score on testing data: 0.5675\n",
      "F-score on testing data: 0.5654\n",
      "\n",
      "Optimized Model\n",
      "------\n",
      "Final accuracy score on the testing data: 0.5776\n",
      "Final F-score on the testing data: 0.5865\n"
     ]
    }
   ],
   "source": [
    "from sklearn.model_selection import GridSearchCV\n",
    "from sklearn.metrics import fbeta_score, make_scorer\n",
    "\n",
    "\n",
    "clf = DecisionTreeClassifier(min_samples_leaf=3, min_weight_fraction_leaf=0.01, max_leaf_nodes=40)\n",
    "\n",
    "\n",
    "\n",
    "criterion = ['gini', 'entropy']\n",
    "max_depth = [2,4,6,8,10,12]\n",
    "\n",
    "parameters = { 'criterion':criterion,\n",
    "                  'max_depth':max_depth,\n",
    "            }\n",
    "# TODO: Create the parameters list you wish to tune, using a dictionary if needed.\n",
    "# HINT: parameters = {'parameter_1': [value1, value2], 'parameter_2': [value1, value2]}\n",
    "# parameters = {'n_estimators': [30, 70, 150, 170], 'learning_rate':[0.01, 0.1, 0.3, .7, 1.3]}\n",
    "\n",
    "# TODO: Make an fbeta_score scoring object using make_scorer()\n",
    "scorer = make_scorer(fbeta_score, beta=0.5)\n",
    "\n",
    "# TODO: Perform grid search on the classifier using 'scorer' as the scoring method using GridSearchCV()\n",
    "grid_obj = GridSearchCV(clf, parameters, scoring=scorer)\n",
    "\n",
    "# TODO: Fit the grid search object to the training data and find the optimal parameters using fit()\n",
    "grid_fit = grid_obj.fit(X_train, y_train)\n",
    "\n",
    "# Get the estimator\n",
    "best_clf = grid_fit.best_estimator_\n",
    "\n",
    "# Make predictions using the unoptimized and model\n",
    "predictions = (clf.fit(X_train, y_train)).predict(X_test)\n",
    "best_predictions = best_clf.predict(X_test)\n",
    "\n",
    "# Report the before-and-afterscores\n",
    "print(\"Unoptimized model\\n------\")\n",
    "print(\"Accuracy score on testing data: {:.4f}\".format(accuracy_score(y_test, predictions)))\n",
    "print(\"F-score on testing data: {:.4f}\".format(fbeta_score(y_test, predictions, beta = 0.5)))\n",
    "print(\"\\nOptimized Model\\n------\")\n",
    "print(\"Final accuracy score on the testing data: {:.4f}\".format(accuracy_score(y_test, best_predictions)))\n",
    "print(\"Final F-score on the testing data: {:.4f}\".format(fbeta_score(y_test, best_predictions, beta = 0.5)))"
   ]
  },
  {
   "cell_type": "code",
   "execution_count": 62,
   "metadata": {},
   "outputs": [
    {
     "data": {
      "image/png": "[encoded data removed]",
      "text/plain": [
       "<Figure size 648x360 with 1 Axes>"
      ]
     },
     "metadata": {
      "needs_background": "light"
     },
     "output_type": "display_data"
    }
   ],
   "source": [
    "# TODO: Import a supervised learning model that has 'feature_importances_'\n",
    "from sklearn.ensemble import AdaBoostClassifier\n",
    "\n",
    "# TODO: Train the supervised model on the training set using .fit(X_train, y_train)\n",
    "model = AdaBoostClassifier().fit(X_train, y_train)\n",
    "\n",
    "# TODO: Extract the feature importances using .feature_importances_ \n",
    "importances = model.feature_importances_\n",
    "\n",
    "# Plot\n",
    "vs.feature_plot(importances, X_train, y_train)\n"
   ]
  }
 ],
 "metadata": {
  "kernelspec": {
   "display_name": "Python 3",
   "language": "python",
   "name": "python3"
  },
  "language_info": {
   "codemirror_mode": {
    "name": "ipython",
    "version": 3
   },
   "file_extension": ".py",
   "mimetype": "text/x-python",
   "name": "python",
   "nbconvert_exporter": "python",
   "pygments_lexer": "ipython3",
   "version": "3.8.5"
  }
 },
 "nbformat": 4,
 "nbformat_minor": 4
}
